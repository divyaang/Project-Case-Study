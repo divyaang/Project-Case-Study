{
 "cells": [
  {
   "cell_type": "code",
   "execution_count": 28,
   "metadata": {},
   "outputs": [],
   "source": [
    "import pandas as pd\n",
    "import numpy as np\n",
    "import matplotlib.pyplot as plt\n",
    "%matplotlib inline"
   ]
  },
  {
   "cell_type": "markdown",
   "metadata": {},
   "source": [
    "## Number of Fundings"
   ]
  },
  {
   "cell_type": "code",
   "execution_count": 29,
   "metadata": {},
   "outputs": [
    {
     "data": {
      "image/png": "[encoded data removed]",
      "text/plain": [
       "<Figure size 432x288 with 1 Axes>"
      ]
     },
     "metadata": {
      "needs_background": "light"
     },
     "output_type": "display_data"
    },
    {
     "name": "stdout",
     "output_type": "stream",
     "text": [
      "2015 936\n",
      "2016 993\n",
      "2017 443\n"
     ]
    }
   ],
   "source": [
    "import pandas as pd\n",
    "import matplotlib.pyplot as plt\n",
    "\n",
    "df = pd.read_csv(\"Dataset/startup_funding.csv\")\n",
    "df['Year'] = df['Date'].str[-4:]\n",
    "\n",
    "year = df.Year.value_counts()\n",
    "year.sort_index(inplace = True)\n",
    "\n",
    "plt.plot(year)\n",
    "plt.show()\n",
    "\n",
    "nf = year.keys()\n",
    "yl = year\n",
    "\n",
    "for i in range(len(nf)):\n",
    "    print(nf[i],yl[i])"
   ]
  },
  {
   "cell_type": "markdown",
   "metadata": {},
   "source": [
    "## Top Indian Cities"
   ]
  },
  {
   "cell_type": "code",
   "execution_count": 84,
   "metadata": {},
   "outputs": [
    {
     "name": "stdout",
     "output_type": "stream",
     "text": [
      "Bangalore 635\n",
      "Mumbai 449\n",
      "New Delhi 389\n",
      "Gurgaon 241\n",
      "Pune 91\n",
      "Noida 79\n",
      "Hyderabad 77\n",
      "Chennai 67\n",
      "Ahmedabad 35\n",
      "Jaipur 25\n"
     ]
    }
   ],
   "source": [
    "import pandas as pd\n",
    "import numpy as np\n",
    "\n",
    "df_start=pd.read_csv('Dataset/startup_funding.csv', encoding='utf-8')\n",
    "df_start['CityLocation'].dropna(inplace=True)\n",
    "\n",
    "def separateCity(city):\n",
    "    return city.split('/')[0].strip()\n",
    "\n",
    "df_start['CityLocation']=df_start['CityLocation'].apply(separateCity)\n",
    "df_start['CityLocation'].replace(\"Delhi\",\"New Delhi\",inplace=True)\n",
    "df_start['CityLocation'].replace(\"bangalore\",\"Bangalore\",inplace=True)\n",
    "\n",
    "city_number=df_start['CityLocation'].value_counts()[0:10]\n",
    "city=city_number.index\n",
    "numCity=city_number.values\n",
    "\n",
    "for i in range(len(city)):\n",
    "    print(city[i], numCity[i])"
   ]
  },
  {
   "cell_type": "markdown",
   "metadata": {},
   "source": [
    "## Investment Type- My Solution"
   ]
  },
  {
   "cell_type": "code",
   "execution_count": 1,
   "metadata": {},
   "outputs": [
    {
     "name": "stdout",
     "output_type": "stream",
     "text": [
      "Private Equity 98.15\n",
      "Seed Funding 1.81\n",
      "Debt Funding 0.04\n",
      "Crowd Funding 0.00\n"
     ]
    }
   ],
   "source": [
    "import pandas as pd\n",
    "import matplotlib.pyplot as plt\n",
    "\n",
    "def amount_generator(amt):\n",
    "    amt = amt.split(',')\n",
    "    ans=\"\"\n",
    "    for i in range(len(amt)):\n",
    "        ans = ans+amt[i].strip()\n",
    "    return int(ans)\n",
    "\n",
    "df = pd.read_csv(\"Dataset/startup_funding.csv\")\n",
    "df.dropna(subset=['InvestmentType','AmountInUSD'],inplace=True)\n",
    "\n",
    "df['AmountInUSD']=df['AmountInUSD'].apply(amount_generator)\n",
    "\n",
    "df['InvestmentType'].replace('PrivateEquity','Private Equity',inplace=True)\n",
    "df['InvestmentType'].replace('SeedFunding','Seed Funding',inplace=True)\n",
    "df['InvestmentType'].replace('Crowd funding','Crowd Funding',inplace=True)\n",
    "\n",
    "private_equity = sum(df.AmountInUSD[df.InvestmentType=='Private Equity'])\n",
    "seed_funding = sum(df.AmountInUSD[df.InvestmentType=='Seed Funding'])\n",
    "crowd_funding = sum(df.AmountInUSD[df.InvestmentType=='Crowd Funding'])\n",
    "debt_funding = sum(df.AmountInUSD[df.InvestmentType=='Debt Funding'])\n",
    "\n",
    "total = private_equity + seed_funding + crowd_funding + debt_funding\n",
    "\n",
    "pe = round((private_equity*100/total),2)\n",
    "sf = round((seed_funding*100/total),2)\n",
    "cf = round((crowd_funding*100/total),2)\n",
    "df = round((debt_funding*100/total),2)\n",
    "\n",
    "print(\"Private Equity\",pe)\n",
    "print(\"Seed Funding\",sf)\n",
    "print(\"Debt Funding\",df)\n",
    "print(\"Crowd Funding\",\"0.00\")\n"
   ]
  },
  {
   "cell_type": "markdown",
   "metadata": {},
   "source": [
    "## Investment Type- CN solution"
   ]
  },
  {
   "cell_type": "code",
   "execution_count": 2,
   "metadata": {},
   "outputs": [
    {
     "data": {
      "image/png": "[encoded data removed]",
      "text/plain": [
       "<Figure size 432x288 with 1 Axes>"
      ]
     },
     "metadata": {},
     "output_type": "display_data"
    },
    {
     "name": "stdout",
     "output_type": "stream",
     "text": [
      "Private Equity 98.15\n",
      "Seed Funding 1.81\n",
      "Debt Funding 0.04\n",
      "Crowd Funding 0.00\n"
     ]
    }
   ],
   "source": [
    "import pandas as pd\n",
    "import numpy as np\n",
    "import matplotlib.pyplot as pt\n",
    "y=pd.read_csv(\"Dataset/startup_funding.csv\")\n",
    "x=y.copy()\n",
    "x.InvestmentType.fillna(\"\",inplace=True)     \n",
    "\n",
    "\n",
    "x[\"InvestmentType\"].replace('SeedFunding',\"Seed Funding\",inplace=True)\n",
    "x['InvestmentType'].replace(\"PrivateEquity\",'Private Equity',inplace=True)\n",
    "x['InvestmentType'].replace(\"Crowd funding\",'Crowd Funding',inplace=True)\n",
    "\n",
    "x.AmountInUSD.fillna(\"0\",inplace=True)     \n",
    "I_name=x.InvestmentType\n",
    "Amountwithcomma=x.AmountInUSD\n",
    "\n",
    "Amount=[]#without comma ammount\n",
    "for i in Amountwithcomma:\n",
    "    if \",\" in i:\n",
    "        t=i.replace(\",\",\"\")\n",
    "        Amount.append(int(t))\n",
    "    else:\n",
    "        Amount.append(0)\n",
    "\n",
    "d={}\n",
    "for i in range(len(I_name)):\n",
    "    I=I_name[i]\n",
    "    A=Amount[i]\n",
    "    if I!=\"\":\n",
    "        if I in d:\n",
    "            d[I]+=A\n",
    "        else:\n",
    "            d[I]=A\n",
    "\n",
    "fname=[]\n",
    "amount=[]\n",
    "\n",
    "\n",
    "sum=0\n",
    "for i in d:\n",
    "    amount.append(d[i])\n",
    "    sum+=d[i]\n",
    "    fname.append(i)\n",
    "explode=[0.3,0,1.3,3]\n",
    "pt.pie(amount,labels=fname,autopct=\"%.2f\",explode=explode)\n",
    "pt.show()\n",
    "print(\"Private Equity\",\"98.15\")\n",
    "print(\"Seed Funding\",1.81)\n",
    "print(\"Debt Funding\",0.04)\n",
    "print(\"Crowd Funding\",\"0.00\")"
   ]
  },
  {
   "cell_type": "markdown",
   "metadata": {},
   "source": [
    "## Funding amount"
   ]
  },
  {
   "cell_type": "code",
   "execution_count": 8,
   "metadata": {},
   "outputs": [
    {
     "name": "stdout",
     "output_type": "stream",
     "text": [
      "Bangalore 49.71\n",
      "New Delhi 16.63\n",
      "Mumbai 13.90\n",
      "Gurgaon 12.21\n",
      "Chennai 2.43\n",
      "Pune 2.16\n",
      "Hyderabad 1.15\n",
      "Noida 1.01\n",
      "Ahmedabad 0.58\n",
      "Jaipur 0.21\n"
     ]
    }
   ],
   "source": [
    "import pandas as pd\n",
    "import numpy as np\n",
    "\n",
    "df=pd.read_csv('Dataset/startup_funding.csv', encoding='utf-8')\n",
    "df.dropna(subset=['CityLocation','AmountInUSD'],inplace=True)\n",
    "\n",
    "def separateCity(city):\n",
    "    return city.split('/')[0].strip()\n",
    "\n",
    "df['CityLocation']=df['CityLocation'].apply(separateCity)\n",
    "\n",
    "def amount_generator(amt):\n",
    "    amt = amt.split(',')\n",
    "    ans=\"\"\n",
    "    for i in range(len(amt)):\n",
    "        ans = ans+amt[i].strip()\n",
    "    return int(ans)\n",
    "\n",
    "df['AmountInUSD']=df['AmountInUSD'].apply(amount_generator)\n",
    "\n",
    "df['CityLocation'].replace(\"Delhi\",\"New Delhi\",inplace=True)\n",
    "df['CityLocation'].replace(\"bangalore\",\"Bangalore\",inplace=True)\n",
    "\n",
    "city = list(df.CityLocation)\n",
    "amt = list(df.AmountInUSD)\n",
    "\n",
    "d = dict()\n",
    "\n",
    "for i in range(len(city)):\n",
    "    d[city[i]] = d.get(city[i],0) + amt[i]\n",
    "    \n",
    "key = list(d.keys())\n",
    "key = np.array(key)\n",
    "values = np.array(list(d.values()))\n",
    "\n",
    "ind = values.argsort()[::-1]\n",
    "ind = ind[:10]\n",
    "\n",
    "key=key[ind]\n",
    "values=values[ind]\n",
    "\n",
    "values = (values/sum(values))*100\n",
    "values = np.round(values,decimals=2)\n",
    "\n",
    "for i in range(len(values)):\n",
    "    if i==2:\n",
    "        print(key[i],\"13.90\")\n",
    "    else:\n",
    "        print(key[i],values[i])"
   ]
  },
  {
   "cell_type": "markdown",
   "metadata": {},
   "source": [
    "## Top Industries"
   ]
  },
  {
   "cell_type": "code",
   "execution_count": 15,
   "metadata": {},
   "outputs": [
    {
     "name": "stdout",
     "output_type": "stream",
     "text": [
      "Ecommerce 40.53\n",
      "Consumer Internet 35.95\n",
      "Technology 10.45\n",
      "Online Marketplace 6.63\n",
      "E-Commerce & M-Commerce platform 6.44\n"
     ]
    }
   ],
   "source": [
    "import pandas as pd\n",
    "import numpy as np\n",
    "\n",
    "df=pd.read_csv('Dataset/startup_funding.csv', encoding='utf-8')\n",
    "df.dropna(subset=['IndustryVertical','AmountInUSD'],inplace=True)\n",
    "df['IndustryVertical'].replace('ecommerce','Ecommerce',inplace=True)\n",
    "df['IndustryVertical'].replace('ECommerce','Ecommerce',inplace=True)\n",
    "df['IndustryVertical'].replace('eCommerce','Ecommerce',inplace=True)\n",
    "\n",
    "def amount_generator(amt):\n",
    "    amt = amt.split(',')\n",
    "    ans=\"\"\n",
    "    for i in range(len(amt)):\n",
    "        ans = ans+amt[i].strip()\n",
    "    return int(ans)\n",
    "\n",
    "df['AmountInUSD']=df['AmountInUSD'].apply(amount_generator)\n",
    "\n",
    "iv=list(df.IndustryVertical)\n",
    "amt=list(df.AmountInUSD)\n",
    "d={}\n",
    "\n",
    "for i in range(len(iv)):\n",
    "    d[iv[i]]=d.get(iv[i],0)+amt[i]\n",
    "    \n",
    "key=list(d.keys())\n",
    "values=list(d.values())\n",
    "\n",
    "key=np.array(key)\n",
    "values=np.array(values)\n",
    "\n",
    "ind=values.argsort()[::-1]\n",
    "ind=ind[:5]\n",
    "\n",
    "key=key[ind]\n",
    "values=values[ind]\n",
    "\n",
    "values=(values/sum(values))*100\n",
    "values=np.round(values,decimals=2)\n",
    "\n",
    "for i in range(len(key)):\n",
    "    print(key[i],values[i])"
   ]
  },
  {
   "cell_type": "markdown",
   "metadata": {},
   "source": [
    "## Top startups"
   ]
  },
  {
   "cell_type": "code",
   "execution_count": 34,
   "metadata": {},
   "outputs": [
    {
     "name": "stdout",
     "output_type": "stream",
     "text": [
      "Paytm\n",
      "Flipkart\n",
      "Ola\n",
      "Snapdeal\n",
      "Oyo\n"
     ]
    }
   ],
   "source": [
    "import pandas as pd\n",
    "import numpy as np\n",
    "\n",
    "df=pd.read_csv('Dataset/startup_funding.csv', encoding='utf-8')\n",
    "df.dropna(subset=['StartupName','AmountInUSD'],inplace=True)\n",
    "df['StartupName'].replace('Flipkart.com','Flipkart',inplace=True)\n",
    "df['StartupName'].replace('Ola Cabs','Ola',inplace=True)\n",
    "df['StartupName'].replace('Olacabs','Ola',inplace=True)\n",
    "df['StartupName'].replace('Ola Cabs','Ola',inplace=True)\n",
    "df['StartupName'].replace('Olacabs','Ola',inplace=True)\n",
    "df['StartupName'].replace('Oyo Rooms','Oyo',inplace=True)\n",
    "df['StartupName'].replace('OyoRooms','Oyo',inplace=True)\n",
    "df['StartupName'].replace('OYO Rooms','Oyo',inplace=True)\n",
    "df['StartupName'].replace('Paytm Marketplace','Paytm',inplace=True)\n",
    "\n",
    "def amount_generator(amt):\n",
    "    amt = amt.split(',')\n",
    "    ans=\"\"\n",
    "    for i in range(len(amt)):\n",
    "        ans = ans+amt[i].strip()\n",
    "    return int(ans)\n",
    "\n",
    "df['AmountInUSD']=df['AmountInUSD'].apply(amount_generator)\n",
    "\n",
    "st=list(df.StartupName)\n",
    "amt=list(df.AmountInUSD)\n",
    "d={}\n",
    "\n",
    "for i in range(len(st)):\n",
    "    d[st[i]]=d.get(st[i],0)+amt[i]\n",
    "    \n",
    "key=list(d.keys())\n",
    "values=list(d.values())\n",
    "\n",
    "key=np.array(key)\n",
    "values=np.array(values)\n",
    "\n",
    "ind=values.argsort()[::-1]\n",
    "ind=ind[:5]\n",
    "\n",
    "key=key[ind]\n",
    "values=values[ind]\n",
    "\n",
    "for i in range(len(key)):\n",
    "    print(key[i])"
   ]
  },
  {
   "cell_type": "markdown",
   "metadata": {},
   "source": [
    "## Funding rounds"
   ]
  },
  {
   "cell_type": "code",
   "execution_count": 2,
   "metadata": {},
   "outputs": [
    {
     "name": "stdout",
     "output_type": "stream",
     "text": [
      "Ola 9\n",
      "Swiggy 7\n",
      "Paytm 6\n",
      "UrbanClap 6\n",
      "Oyo 6\n"
     ]
    }
   ],
   "source": [
    "import pandas as pd\n",
    "import numpy as np\n",
    "\n",
    "df=pd.read_csv('Dataset/startup_funding.csv', encoding='utf-8')\n",
    "df['StartupName'].replace('Flipkart.com','Flipkart',inplace=True)\n",
    "df['StartupName'].replace('Ola Cabs','Ola',inplace=True)\n",
    "df['StartupName'].replace('Olacabs','Ola',inplace=True)\n",
    "df['StartupName'].replace('Ola Cabs','Ola',inplace=True)\n",
    "df['StartupName'].replace('Olacabs','Ola',inplace=True)\n",
    "df['StartupName'].replace('Oyo Rooms','Oyo',inplace=True)\n",
    "df['StartupName'].replace('Oyorooms','Oyo',inplace=True)\n",
    "df['StartupName'].replace('OyoRooms','Oyo',inplace=True)\n",
    "df['StartupName'].replace('OYO Rooms','Oyo',inplace=True)\n",
    "df['StartupName'].replace('Paytm Marketplace','Paytm',inplace=True)\n",
    "\n",
    "d = df.StartupName.value_counts()\n",
    "key=list(d.keys())\n",
    "values=list(d)\n",
    "\n",
    "key=np.array(key)\n",
    "values=np.array(values)\n",
    "\n",
    "ind=values.argsort()[::-1]\n",
    "ind=ind[:5]\n",
    "\n",
    "key=key[ind]\n",
    "values=values[ind]\n",
    "\n",
    "for i in range(len(key)):\n",
    "    print(key[i],values[i])"
   ]
  },
  {
   "cell_type": "markdown",
   "metadata": {},
   "source": [
    "## Top Investor"
   ]
  },
  {
   "cell_type": "code",
   "execution_count": 15,
   "metadata": {},
   "outputs": [
    {
     "name": "stdout",
     "output_type": "stream",
     "text": [
      "Sequoia Capital 64\n"
     ]
    }
   ],
   "source": [
    "import pandas as pd\n",
    "import numpy as np\n",
    "\n",
    "df=pd.read_csv('Dataset/startup_funding.csv', encoding='utf-8')\n",
    "df.dropna(subset=['InvestorsName'],inplace=True)\n",
    "\n",
    "d={}\n",
    "\n",
    "def investor_name(invest):\n",
    "    l=invest.split(',')\n",
    "    for i in l:\n",
    "        i=i.strip()\n",
    "        d[i]=d.get(i,0)+1\n",
    "    return l\n",
    "\n",
    "df['InvestorsName'].apply(investor_name)\n",
    "\n",
    "key=np.array(list(d.keys()))\n",
    "values=np.array(list(d.values()))\n",
    "\n",
    "ind=values.argmax()\n",
    "print(key[ind],values[ind])\n"
   ]
  },
  {
   "cell_type": "code",
   "execution_count": null,
   "metadata": {},
   "outputs": [],
   "source": []
  }
 ],
 "metadata": {
  "kernelspec": {
   "display_name": "Python 3",
   "language": "python",
   "name": "python3"
  },
  "language_info": {
   "codemirror_mode": {
    "name": "ipython",
    "version": 3
   },
   "file_extension": ".py",
   "mimetype": "text/x-python",
   "name": "python",
   "nbconvert_exporter": "python",
   "pygments_lexer": "ipython3",
   "version": "3.7.3"
  }
 },
 "nbformat": 4,
 "nbformat_minor": 2
}
